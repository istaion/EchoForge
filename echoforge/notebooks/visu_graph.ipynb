{
 "cells": [
  {
   "cell_type": "code",
   "execution_count": 4,
   "id": "f980f1ab",
   "metadata": {},
   "outputs": [
    {
     "name": "stdout",
     "output_type": "stream",
     "text": [
      "✓ StateGraph disponible\n",
      "✗ Graph non disponible: cannot import name 'Graph' from 'langgraph.graph' (/home/utilisateur/Documents/Simplon/EchoForge/.venv/lib/python3.12/site-packages/langgraph/graph/__init__.py)\n",
      "✓ MessagesState disponible\n"
     ]
    }
   ],
   "source": [
    "# Test 1\n",
    "try:\n",
    "    from langgraph.graph import StateGraph\n",
    "    print(\"✓ StateGraph disponible\")\n",
    "except ImportError as e:\n",
    "    print(f\"✗ StateGraph non disponible: {e}\")\n",
    "\n",
    "# Test 2\n",
    "try:\n",
    "    from langgraph.graph import Graph\n",
    "    print(\"✓ Graph disponible\")\n",
    "except ImportError as e:\n",
    "    print(f\"✗ Graph non disponible: {e}\")\n",
    "\n",
    "# Test 3\n",
    "try:\n",
    "    from langgraph.graph import MessagesState\n",
    "    print(\"✓ MessagesState disponible\")\n",
    "except ImportError as e:\n",
    "    print(f\"✗ MessagesState non disponible: {e}\")"
   ]
  },
  {
   "cell_type": "code",
   "execution_count": 4,
   "id": "b42f2a17",
   "metadata": {},
   "outputs": [
    {
     "name": "stdout",
     "output_type": "stream",
     "text": [
      "✅ Système d'agents LangGraph chargé avec succès!\n"
     ]
    }
   ],
   "source": [
    "import json\n",
    "from datetime import datetime\n",
    "import os\n",
    "from typing import List, Tuple, Dict\n",
    "from pathlib import Path\n",
    "import base64\n",
    "from io import BytesIO\n",
    "from PIL import Image, ImageDraw\n",
    "import math\n",
    "import asyncio\n",
    "import time\n",
    "# Import du système d'agents LangGraph\n",
    "try:\n",
    "    from echoforge.agents.graphs.character_graph import CharacterGraphManager\n",
    "    from echoforge.agents.state.character_state import CharacterState\n",
    "    from echoforge.core.llm_providers import LLMManager\n",
    "    AGENTS_AVAILABLE = True\n",
    "    print(\"✅ Système d'agents LangGraph chargé avec succès!\")\n",
    "except ImportError as e:\n",
    "    print(f\"⚠️ Erreur: Impossible d'importer le système d'agents: {e}\")\n",
    "    AGENTS_AVAILABLE = False"
   ]
  },
  {
   "cell_type": "code",
   "execution_count": 5,
   "id": "e3ce0802",
   "metadata": {},
   "outputs": [
    {
     "ename": "AttributeError",
     "evalue": "'CompiledStateGraph' object has no attribute 'draw_mermaid_png'",
     "output_type": "error",
     "traceback": [
      "\u001b[31m---------------------------------------------------------------------------\u001b[39m",
      "\u001b[31mAttributeError\u001b[39m                            Traceback (most recent call last)",
      "\u001b[36mCell\u001b[39m\u001b[36m \u001b[39m\u001b[32mIn[5]\u001b[39m\u001b[32m, line 3\u001b[39m\n\u001b[32m      1\u001b[39m \u001b[38;5;28;01mfrom\u001b[39;00m\u001b[38;5;250m \u001b[39m\u001b[34;01mIPython\u001b[39;00m\u001b[34;01m.\u001b[39;00m\u001b[34;01mdisplay\u001b[39;00m\u001b[38;5;250m \u001b[39m\u001b[38;5;28;01mimport\u001b[39;00m Image, display\n\u001b[32m      2\u001b[39m graph = CharacterGraphManager()\n\u001b[32m----> \u001b[39m\u001b[32m3\u001b[39m display(Image(\u001b[43mgraph\u001b[49m\u001b[43m.\u001b[49m\u001b[43mget_or_create_graph\u001b[49m\u001b[43m(\u001b[49m\u001b[33;43m\"\u001b[39;49m\u001b[33;43mMartine\u001b[39;49m\u001b[33;43m\"\u001b[39;49m\u001b[43m)\u001b[49m\u001b[43m.\u001b[49m\u001b[43mdraw_mermaid_png\u001b[49m()))\n",
      "\u001b[31mAttributeError\u001b[39m: 'CompiledStateGraph' object has no attribute 'draw_mermaid_png'"
     ]
    }
   ],
   "source": [
    "from IPython.display import Image, display\n",
    "graph = CharacterGraphManager()\n",
    "display(Image(graph.get_or_create_graph(\"Martine\").draw_mermaid_png()))"
   ]
  },
  {
   "cell_type": "code",
   "execution_count": null,
   "id": "6807a908",
   "metadata": {},
   "outputs": [],
   "source": []
  }
 ],
 "metadata": {
  "kernelspec": {
   "display_name": ".venv",
   "language": "python",
   "name": "python3"
  },
  "language_info": {
   "codemirror_mode": {
    "name": "ipython",
    "version": 3
   },
   "file_extension": ".py",
   "mimetype": "text/x-python",
   "name": "python",
   "nbconvert_exporter": "python",
   "pygments_lexer": "ipython3",
   "version": "3.12.3"
  }
 },
 "nbformat": 4,
 "nbformat_minor": 5
}
